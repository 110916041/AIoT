{
 "cells": [
  {
   "cell_type": "code",
   "execution_count": 21,
   "metadata": {},
   "outputs": [
    {
     "name": "stdout",
     "output_type": "stream",
     "text": [
      "\n",
      "Results for Different Numbers of Variables:\n",
      "   Num Features                                  Selected Features  \\\n",
      "0             1                                        [R&D Spend]   \n",
      "1             2                        [R&D Spend, Administration]   \n",
      "2             3       [R&D Spend, Administration, Marketing Spend]   \n",
      "3             4  [R&D Spend, Administration, Marketing Spend, S...   \n",
      "4             5  [R&D Spend, Administration, Marketing Spend, S...   \n",
      "5             6  [R&D Spend, Administration, Marketing Spend, S...   \n",
      "\n",
      "            MSE  \n",
      "0  5.951096e+07  \n",
      "1  8.376413e+07  \n",
      "2  8.092632e+07  \n",
      "3  8.118573e+07  \n",
      "4  8.201036e+07  \n",
      "5  8.201036e+07  \n",
      "\n",
      "Best Model (Minimum MSE):\n",
      "Number of Features: 1\n",
      "Selected Features: ['R&D Spend']\n",
      "Best MSE: 59510962.81\n"
     ]
    }
   ],
   "source": [
    "# Step 1: Import necessary libraries\n",
    "import pandas as pd\n",
    "from sklearn.model_selection import train_test_split\n",
    "from sklearn.linear_model import LinearRegression\n",
    "from sklearn.metrics import mean_squared_error\n",
    "from sklearn.preprocessing import OneHotEncoder\n",
    "\n",
    "# Step 2: Load the dataset from the URL\n",
    "url = \"https://raw.githubusercontent.com/harimittapalli/Mulitple-Linear-Reggression/refs/heads/master/50_Startups.csv\"\n",
    "data = pd.read_csv(url)\n",
    "\n",
    "# Step 3: Preprocess the data\n",
    "# One-hot encode the 'State' column\n",
    "onehot_encoder = OneHotEncoder(sparse_output=False)\n",
    "encoded_state = onehot_encoder.fit_transform(data[['State']])\n",
    "state_df = pd.DataFrame(encoded_state, columns=['State_' + str(int(i)) for i in range(encoded_state.shape[1])])\n",
    "data = pd.concat([data, state_df], axis=1)\n",
    "data.drop(['State'], axis=1, inplace=True)\n",
    "\n",
    "# Define independent variables X (all columns except 'Profit') and dependent variable y ('Profit')\n",
    "X = data.drop('Profit', axis=1)\n",
    "y = data['Profit']\n",
    "\n",
    "# Step 4: Train models with varying numbers of features and calculate MSE\n",
    "results = []\n",
    "\n",
    "# Split the data into training and testing sets (80-20 split)\n",
    "X_train, X_test, y_train, y_test = train_test_split(X, y, test_size=0.2, random_state=42)\n",
    "\n",
    "# Train multiple models with varying numbers of features\n",
    "for num_features in range(1, X_train.shape[1] + 1):\n",
    "    model = LinearRegression()\n",
    "    model.fit(X_train.iloc[:, :num_features], y_train)  # Train with first 'num_features' features\n",
    "    y_pred = model.predict(X_test.iloc[:, :num_features])  # Predict with the same number of features\n",
    "    mse = mean_squared_error(y_test, y_pred)  # Calculate MSE\n",
    "    selected_features = X_train.columns[:num_features].tolist()  # Get the feature names\n",
    "    results.append((num_features, selected_features, mse))\n",
    "\n",
    "# Step 5: Create a DataFrame to display the results\n",
    "result_df = pd.DataFrame(results, columns=['Num Features', 'Selected Features', 'MSE'])\n",
    "\n",
    "# Display the results\n",
    "print(\"\\nResults for Different Numbers of Variables:\")\n",
    "print(result_df)\n",
    "\n",
    "# Step 6: Find the best model with the lowest MSE\n",
    "best_model = result_df.loc[result_df['MSE'].idxmin()]\n",
    "best_num_features = best_model['Num Features']\n",
    "best_features = best_model['Selected Features']\n",
    "best_mse = best_model['MSE']\n",
    "\n",
    "print(f\"\\nBest Model (Minimum MSE):\")\n",
    "print(f\"Number of Features: {best_num_features}\")\n",
    "print(f\"Selected Features: {best_features}\")\n",
    "print(f\"Best MSE: {best_mse:.2f}\")\n"
   ]
  }
 ],
 "metadata": {
  "kernelspec": {
   "display_name": "Python 3",
   "language": "python",
   "name": "python3"
  },
  "language_info": {
   "codemirror_mode": {
    "name": "ipython",
    "version": 3
   },
   "file_extension": ".py",
   "mimetype": "text/x-python",
   "name": "python",
   "nbconvert_exporter": "python",
   "pygments_lexer": "ipython3",
   "version": "3.11.0"
  }
 },
 "nbformat": 4,
 "nbformat_minor": 2
}
